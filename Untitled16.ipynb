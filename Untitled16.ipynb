{
  "nbformat": 4,
  "nbformat_minor": 0,
  "metadata": {
    "colab": {
      "name": "Untitled16.ipynb",
      "provenance": [],
      "authorship_tag": "ABX9TyNel9AyK8j+ENQSbyQRCw3H",
      "include_colab_link": true
    },
    "kernelspec": {
      "name": "python3",
      "display_name": "Python 3"
    },
    "language_info": {
      "name": "python"
    }
  },
  "cells": [
    {
      "cell_type": "markdown",
      "metadata": {
        "id": "view-in-github",
        "colab_type": "text"
      },
      "source": [
        "<a href=\"https://colab.research.google.com/github/vaniarya/demo/blob/master/Untitled16.ipynb\" target=\"_parent\"><img src=\"https://colab.research.google.com/assets/colab-badge.svg\" alt=\"Open In Colab\"/></a>"
      ]
    },
    {
      "cell_type": "markdown",
      "metadata": {
        "id": "8kbtI5ia0pu6"
      },
      "source": [
        "# **CS Practical File**\n",
        "**Name-** Vani Arya\n",
        "\n",
        "**Class-**XI-A\n",
        "\n",
        "**Roll num-**40"
      ]
    },
    {
      "cell_type": "code",
      "metadata": {
        "colab": {
          "base_uri": "https://localhost:8080/"
        },
        "id": "y-HDsI_o0TFy",
        "outputId": "a961e47a-a3a2-415e-a3b7-e1a0267bde2c"
      },
      "source": [
        "#program to print hello world\n",
        "print(\"hello world\")"
      ],
      "execution_count": 1,
      "outputs": [
        {
          "output_type": "stream",
          "name": "stdout",
          "text": [
            "hello world\n"
          ]
        }
      ]
    },
    {
      "cell_type": "code",
      "metadata": {
        "colab": {
          "base_uri": "https://localhost:8080/"
        },
        "id": "SCU4Zkzz0rH1",
        "outputId": "2a98dba1-9869-4b2a-e26c-a7c2b6b041e1"
      },
      "source": [
        "#program to calculate area of rectangle\n",
        "l= int(input(\"enter length of rectangle:\"))\n",
        "b= int(input(\"enter breadth of rectangle:\"))\n",
        "print(\"area==\", l*b)"
      ],
      "execution_count": 3,
      "outputs": [
        {
          "output_type": "stream",
          "name": "stdout",
          "text": [
            "enter length of rectangle:6\n",
            "enter breadth of rectangle:5\n",
            "area== 30\n"
          ]
        }
      ]
    },
    {
      "cell_type": "code",
      "metadata": {
        "colab": {
          "base_uri": "https://localhost:8080/"
        },
        "id": "WGarO7o61WSx",
        "outputId": "e44feaba-4421-44cc-c5f2-0e67078476f6"
      },
      "source": [
        "#progpram to calculate simple interest\n",
        "p= int(input(\"enter principal amount:\"))\n",
        "r= int(input(\"enter rate of interest:\"))\n",
        "t= int(input(\"enter tenure:\"))\n",
        "print(\"amount==\", p*r*t)"
      ],
      "execution_count": 4,
      "outputs": [
        {
          "output_type": "stream",
          "name": "stdout",
          "text": [
            "enter principal amount:5\n",
            "enter rate of interest:6\n",
            "enter tenure:7\n",
            "amount== 210\n"
          ]
        }
      ]
    },
    {
      "cell_type": "code",
      "metadata": {
        "colab": {
          "base_uri": "https://localhost:8080/"
        },
        "id": "Y76gfZVx1-8V",
        "outputId": "93f2765b-d9e3-45d9-ab09-a63e06ee7ccc"
      },
      "source": [
        "#program to swap two nos.\n",
        "a= int(input('enter a num:'))\n",
        "b= int(input('enter a num:'))\n",
        "print(\"before swaping:\",\"a==\",a,\"b==\",b )\n",
        "a,b=b,a\n",
        "print(\"after swaping:\",\"a==\",a,\"b==\",b )"
      ],
      "execution_count": 7,
      "outputs": [
        {
          "output_type": "stream",
          "name": "stdout",
          "text": [
            "enter a num:5\n",
            "enter a num:6\n",
            "before swaping: a== 5 b== 6\n",
            "after swaping: a== 6 b== 5\n"
          ]
        }
      ]
    },
    {
      "cell_type": "code",
      "metadata": {
        "colab": {
          "base_uri": "https://localhost:8080/"
        },
        "id": "mjVqta383E89",
        "outputId": "02a688fe-ca00-46ba-93ce-709952f1ab86"
      },
      "source": [
        "#program to check greatest among two numbers\n",
        "x= int(input('enter a num:'))\n",
        "y= int(input('enter a num:'))\n",
        "if (x>y):\n",
        "  print(\"x is greater\")\n",
        "elif (x<y):\n",
        "  print(\"y is greater\")\n",
        "else:\n",
        "  print(\"both are equal\")"
      ],
      "execution_count": 9,
      "outputs": [
        {
          "output_type": "stream",
          "name": "stdout",
          "text": [
            "enter a num:88\n",
            "enter a num:-88\n",
            "x is greater\n"
          ]
        }
      ]
    },
    {
      "cell_type": "code",
      "metadata": {
        "colab": {
          "base_uri": "https://localhost:8080/"
        },
        "id": "8KlEU_H13vQj",
        "outputId": "cc82d946-fae4-497e-d86a-7588cf4e1c39"
      },
      "source": [
        "#program to check whether the number is odd or even\n",
        "v= int(input('enter a num:'))\n",
        "if (v%2==0):\n",
        "  print(\"number is even\")\n",
        "else:\n",
        "  print(\"number is odd\")"
      ],
      "execution_count": 10,
      "outputs": [
        {
          "output_type": "stream",
          "name": "stdout",
          "text": [
            "enter a num:99\n",
            "number is odd\n"
          ]
        }
      ]
    },
    {
      "cell_type": "code",
      "metadata": {
        "colab": {
          "base_uri": "https://localhost:8080/"
        },
        "id": "9Zgv2JlZ4TKj",
        "outputId": "74104df9-3cdb-4e4c-8615-7a3e56dadb58"
      },
      "source": [
        "#menu driven program to calculate area of three different shapes\n",
        "op1= print(\"1=Square\")\n",
        "op2= print(\"2=Triangle\")\n",
        "op3= print(\"3=Circle\")\n",
        "op= int(input(\"enter option from above:\"))\n",
        "if (op==1):\n",
        "  s= int(input(\"enter side:\"))\n",
        "  print(\"area of square==\", s*s)\n",
        "elif (op==2):\n",
        "  b=int(input(\"enter breadth:\"))\n",
        "  h=int(input(\"enter height:\"))\n",
        "  print(\"area of triangle==\", 0.5*b*h)\n",
        "elif (op==3):\n",
        "  pi=3.14\n",
        "  r=int(input(\"enter radius:\"))\n",
        "  print(\"area of circle==\", pi*r*r)"
      ],
      "execution_count": 18,
      "outputs": [
        {
          "output_type": "stream",
          "name": "stdout",
          "text": [
            "1=Square\n",
            "2=Triangle\n",
            "3=Circle\n",
            "enter option from above:3\n",
            "enter radius:99\n",
            "area of circle== 30775.140000000003\n"
          ]
        }
      ]
    },
    {
      "cell_type": "code",
      "metadata": {
        "colab": {
          "base_uri": "https://localhost:8080/"
        },
        "id": "moXBEYdH672T",
        "outputId": "2542f144-973d-4845-af82-047eacf51404"
      },
      "source": [
        "#program to arrange three numbers in ascending order\n",
        "p= int(input('enter a num:'))\n",
        "q= int(input('enter a num:'))\n",
        "r= int(input('enter a num:'))\n",
        "if (p>q) and (p>r):\n",
        "  if(q>r):\n",
        "    print(\"ascending order:\", r,\"<\",q, \"<\",p)\n",
        "  else:\n",
        "    print(\"ascending order:\", q,\"<\",r,\"<\",p)\n",
        "elif (p<q) and (p<r):\n",
        "  if(q>r):\n",
        "    print(\"ascending order:\", q,\"<\",r, \"<\",p)\n",
        "  else:\n",
        "    print(\"ascending order:\", p,\"<\",q,\"<\",r)\n",
        "elif (p<q) and (p>r):\n",
        "    print(\"ascending order:\", q,\"<\",p, \"<\",r)\n",
        "elif (p<r) and (p>q):\n",
        "    print(\"ascending order:\", r,\"<\",p, \"<\",q)"
      ],
      "execution_count": 21,
      "outputs": [
        {
          "output_type": "stream",
          "name": "stdout",
          "text": [
            "enter a num:66\n",
            "enter a num:77\n",
            "enter a num:88\n",
            "ascending order: 66 < 77 < 88\n"
          ]
        }
      ]
    },
    {
      "cell_type": "code",
      "metadata": {
        "colab": {
          "base_uri": "https://localhost:8080/"
        },
        "id": "_Ur70GBGBigQ",
        "outputId": "0acb75d1-9d40-4c98-842d-699a37d529f5"
      },
      "source": [
        "# Python program to check if the number is an Armstrong number or not\n",
        "num = int(input(\"Enter a number: \"))\n",
        "sum = 0\n",
        "temp = num\n",
        "while temp > 0:\n",
        "   digit = temp % 10\n",
        "   sum += digit ** 3\n",
        "   temp //= 10\n",
        "if num == sum:\n",
        "   print(num,\"is an Armstrong number\")\n",
        "else:\n",
        "   print(num,\"is not an Armstrong number\")"
      ],
      "execution_count": 24,
      "outputs": [
        {
          "output_type": "stream",
          "name": "stdout",
          "text": [
            "Enter a number: 371\n",
            "371 is an Armstrong number\n"
          ]
        }
      ]
    },
    {
      "cell_type": "code",
      "metadata": {
        "colab": {
          "base_uri": "https://localhost:8080/"
        },
        "id": "-fh74XpFB9o6",
        "outputId": "0b7ac021-a3c4-4588-a2fa-b662a5bde11e"
      },
      "source": [
        "#Pattern printing 1\n",
        "a= int(input(\"enter num of rows:\"))\n",
        "for i in range (1,a):\n",
        "   for j in range (a,i,-1):\n",
        "       print(\"*\", end=' ')\n",
        "   print(\" \")"
      ],
      "execution_count": 33,
      "outputs": [
        {
          "output_type": "stream",
          "name": "stdout",
          "text": [
            "enter num of rows:6\n",
            "* * * * *  \n",
            "* * * *  \n",
            "* * *  \n",
            "* *  \n",
            "*  \n"
          ]
        }
      ]
    },
    {
      "cell_type": "code",
      "metadata": {
        "colab": {
          "base_uri": "https://localhost:8080/"
        },
        "id": "J00OH8rdD29z",
        "outputId": "34d58ff9-3814-4476-9b7f-a3d989fd3320"
      },
      "source": [
        "#Pattern printing 2\n",
        "n=1\n",
        "for i in range (1,5):\n",
        "  for j in range (1,i+1):\n",
        "    print(n, end=' ')\n",
        "    n=n+1\n",
        "  print(\" \")"
      ],
      "execution_count": 38,
      "outputs": [
        {
          "output_type": "stream",
          "name": "stdout",
          "text": [
            "1  \n",
            "2 3  \n",
            "4 5 6  \n",
            "7 8 9 10  \n"
          ]
        }
      ]
    },
    {
      "cell_type": "code",
      "metadata": {
        "colab": {
          "base_uri": "https://localhost:8080/"
        },
        "id": "x4r9zzfgEdwN",
        "outputId": "1e5cc2b7-b6bb-4409-be2d-20268a22a881"
      },
      "source": [
        "#WAP to count number of alphabets, digits, spaces and special symbols\n",
        "a= str(input(\"enter a string:\"))\n",
        "c_alpha=0\n",
        "c_digit=0\n",
        "c_space=0\n",
        "c_spl=0\n",
        "for i in a:\n",
        "  if i.isalpha():\n",
        "    c_alpha+=1\n",
        "  elif i.isdigit():\n",
        "    c_digit+=1\n",
        "  elif i.isspace():\n",
        "    c_space+=1\n",
        "  else:\n",
        "    c_spl+=1\n",
        "print(\"number of alphabets:\", c_alpha)\n",
        "print(\"number of digits:\", c_digit)\n",
        "print(\"number of spaces:\", c_space)\n",
        "print(\"number of special symbols:\", c_spl)"
      ],
      "execution_count": 41,
      "outputs": [
        {
          "output_type": "stream",
          "name": "stdout",
          "text": [
            "enter a string:hi i'm vani, i study in 11th\n",
            "number of alphabets: 18\n",
            "number of digits: 2\n",
            "number of spaces: 6\n",
            "number of special symbols: 2\n"
          ]
        }
      ]
    },
    {
      "cell_type": "code",
      "metadata": {
        "colab": {
          "base_uri": "https://localhost:8080/"
        },
        "id": "Fb2eTMy4Gqfh",
        "outputId": "66d06f59-6af0-4f89-fb95-a08a09dbff57"
      },
      "source": [
        "#WAP to count number of lower cases and upper cases\n",
        "b = str(input(\"enter a string:\"))\n",
        "c_upper=0\n",
        "c_lower=0\n",
        "for i in b:\n",
        "  if i.isupper():\n",
        "    c_upper+=1\n",
        "  else:\n",
        "    c_lower+=1\n",
        "print(\"number of uppercases:\", c_upper)\n",
        "print(\"number of lowercases:\", c_lower)"
      ],
      "execution_count": 44,
      "outputs": [
        {
          "output_type": "stream",
          "name": "stdout",
          "text": [
            "enter a string:COmpreHeNSIve\n",
            "number of uppercases: 6\n",
            "number of lowercases: 7\n"
          ]
        }
      ]
    },
    {
      "cell_type": "code",
      "metadata": {
        "colab": {
          "base_uri": "https://localhost:8080/"
        },
        "id": "yVYggSb_IQLG",
        "outputId": "db90717f-af4d-4b83-cf59-57de0fc5d7b9"
      },
      "source": [
        "#WAP to check whether the number is Palindrome\n",
        "orig= int (input (\"Enter a number: \"))\n",
        "num= orig \n",
        "rev=0\n",
        "while num > 0:\n",
        "   digit = num%10 \n",
        "   rev=rev*10+ digit \n",
        "   num= int (num / 10)\n",
        "if orig==rev:\n",
        "  print('Palindrome')\n",
        "else:\n",
        "  print('Not a Palindrome')"
      ],
      "execution_count": 45,
      "outputs": [
        {
          "output_type": "stream",
          "name": "stdout",
          "text": [
            "Enter a number: 100232001\n",
            "Palindrome\n"
          ]
        }
      ]
    },
    {
      "cell_type": "code",
      "metadata": {
        "colab": {
          "base_uri": "https://localhost:8080/"
        },
        "id": "8Eyz4M8pIfIL",
        "outputId": "b0de367f-46cb-4f93-e5b1-00c4ad2f692e"
      },
      "source": [
        "#WAP to swap cases in a string\n",
        "w= input(\"enter string:\")\n",
        "X= w.swapcase()\n",
        "print(X)"
      ],
      "execution_count": 72,
      "outputs": [
        {
          "output_type": "stream",
          "name": "stdout",
          "text": [
            "enter stringheLLO\n",
            "<HEllo>\n"
          ]
        }
      ]
    },
    {
      "cell_type": "code",
      "metadata": {
        "colab": {
          "base_uri": "https://localhost:8080/"
        },
        "id": "k8H_4oQRLPYC",
        "outputId": "a1b8f083-3b5b-47a1-9873-ec3a9d5b6971"
      },
      "source": [
        "#WAP to print table of a number\n",
        "g= 3\n",
        "for i in range (1,11):\n",
        "  print(g, 'X', i,'=', g*i)"
      ],
      "execution_count": 55,
      "outputs": [
        {
          "output_type": "stream",
          "name": "stdout",
          "text": [
            "3 X 1 = 3\n",
            "3 X 2 = 6\n",
            "3 X 3 = 9\n",
            "3 X 4 = 12\n",
            "3 X 5 = 15\n",
            "3 X 6 = 18\n",
            "3 X 7 = 21\n",
            "3 X 8 = 24\n",
            "3 X 9 = 27\n",
            "3 X 10 = 30\n"
          ]
        }
      ]
    },
    {
      "cell_type": "code",
      "metadata": {
        "colab": {
          "base_uri": "https://localhost:8080/"
        },
        "id": "sJ0W93pwMV_z",
        "outputId": "f5f21dad-098e-46ae-e493-23a6f8876d22"
      },
      "source": [
        "#WAP to print sum of first 5 even and odd numbers\n",
        "sum_even=0\n",
        "sum_odd=0\n",
        "for i in range (1,11):\n",
        "  if (i%2==0):\n",
        "     sum_even+=i\n",
        "  else:\n",
        "     sum_odd+=i\n",
        "print(\"sum of even:\", sum_even)\n",
        "print(\"sum of odd:\", sum_odd)"
      ],
      "execution_count": 58,
      "outputs": [
        {
          "output_type": "stream",
          "name": "stdout",
          "text": [
            "sum of even: 30\n",
            "sum of odd: 25\n"
          ]
        }
      ]
    },
    {
      "cell_type": "code",
      "metadata": {
        "colab": {
          "base_uri": "https://localhost:8080/"
        },
        "id": "1b1Z8Ns2OOdq",
        "outputId": "050445d2-b717-404c-8106-c0d157cfd5dc"
      },
      "source": [
        "#program to print factorial of a number\n",
        "num = int(input(\"enter a number:\"))\n",
        "factorial = 1\n",
        "if num < 0:\n",
        "   print(\"factorial does not exist\")\n",
        "elif num == 0:\n",
        "   print(\"The factorial of 0 is 1\")\n",
        "else:\n",
        "   for i in range(1,num + 1):\n",
        "       factorial = factorial*i\n",
        "   print(\"The factorial of\",num,\"is\",factorial)"
      ],
      "execution_count": 59,
      "outputs": [
        {
          "output_type": "stream",
          "name": "stdout",
          "text": [
            "enter a number:8\n",
            "The factorial of 8 is 40320\n"
          ]
        }
      ]
    },
    {
      "cell_type": "code",
      "metadata": {
        "colab": {
          "base_uri": "https://localhost:8080/"
        },
        "id": "gs5YpDuHPnGL",
        "outputId": "38be85e5-36a0-48f1-c8ce-19b51c0137b8"
      },
      "source": [
        "#Program to print fibonacci series\n",
        "nterms = int(input(\"enter terms: \"))\n",
        "n1, n2 = 0, 1\n",
        "count = 0\n",
        "if nterms <= 0:\n",
        "   print(\"Please enter a positive integer\")\n",
        "elif nterms == 1:\n",
        "   print(\"Fibonacci sequence upto\",nterms,\":\")\n",
        "   print(n1)\n",
        "else:\n",
        "   print(\"Fibonacci sequence:\")\n",
        "   while count < nterms:\n",
        "       print(n1)\n",
        "       nth = n1 + n2\n",
        "       # update values\n",
        "       n1 = n2\n",
        "       n2 = nth\n",
        "       count += 1"
      ],
      "execution_count": 61,
      "outputs": [
        {
          "output_type": "stream",
          "name": "stdout",
          "text": [
            "enter terms: 5\n",
            "Fibonacci sequence:\n",
            "0\n",
            "1\n",
            "1\n",
            "2\n",
            "3\n"
          ]
        }
      ]
    },
    {
      "cell_type": "code",
      "metadata": {
        "colab": {
          "base_uri": "https://localhost:8080/"
        },
        "id": "RaJfZW3_QurG",
        "outputId": "8471426d-69a5-4edf-ee42-d24f0926d068"
      },
      "source": [
        "#program check the entered number is prime or not\n",
        "num = int(input(\"enter a number: \"))\n",
        "f = False\n",
        "if num > 1:\n",
        "    for i in range(2, num):\n",
        "        if (num % i) == 0:\n",
        "            f = True\n",
        "            break\n",
        "if f:\n",
        "    print(num, \"is not a prime number\")\n",
        "else:\n",
        "    print(num, \"is a prime number\")"
      ],
      "execution_count": 63,
      "outputs": [
        {
          "output_type": "stream",
          "name": "stdout",
          "text": [
            "enter a number: 11\n",
            "11 is a prime number\n"
          ]
        }
      ]
    },
    {
      "cell_type": "code",
      "metadata": {
        "colab": {
          "base_uri": "https://localhost:8080/"
        },
        "id": "B-Bj37ryR7yg",
        "outputId": "f0a79485-c9e3-48f4-c03a-362214c22535"
      },
      "source": [
        "#Sum of series 1\n",
        "x= int(input(\"enter a number:\"))\n",
        "n= int(input(\"enter the power of x:\"))\n",
        "s=0\n",
        "for i in range(0,n+1):\n",
        "  s+= x**i \n",
        "print(s)"
      ],
      "execution_count": 67,
      "outputs": [
        {
          "output_type": "stream",
          "name": "stdout",
          "text": [
            "enter a number:7\n",
            "enter the power of x:10\n",
            "329554457\n"
          ]
        }
      ]
    },
    {
      "cell_type": "code",
      "metadata": {
        "colab": {
          "base_uri": "https://localhost:8080/"
        },
        "id": "05K6UVuTUu11",
        "outputId": "f5051596-476e-427a-9643-51bf4f622174"
      },
      "source": [
        "#Sum of series 2\n",
        "x= int(input(\"enter a number:\"))\n",
        "n= int(input(\"enter the power of x:\"))\n",
        "s=0\n",
        "for i in range(1,n+1):\n",
        "  s+= (x**i)/i\n",
        "print(s+1)"
      ],
      "execution_count": 70,
      "outputs": [
        {
          "output_type": "stream",
          "name": "stdout",
          "text": [
            "enter a number:5\n",
            "enter the power of x:3\n",
            "60.166666666666664\n"
          ]
        }
      ]
    }
  ]
}
